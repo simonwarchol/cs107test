{
 "metadata": {
  "language_info": {
   "codemirror_mode": {
    "name": "ipython",
    "version": 3
   },
   "file_extension": ".py",
   "mimetype": "text/x-python",
   "name": "python",
   "nbconvert_exporter": "python",
   "pygments_lexer": "ipython3",
   "version": "3.8.3-final"
  },
  "orig_nbformat": 2,
  "kernelspec": {
   "name": "python38364bitee83c430c3f24bdebc21cedf375ca5c7",
   "display_name": "Python 3.8.3 64-bit"
  }
 },
 "nbformat": 4,
 "nbformat_minor": 2,
 "cells": [
  {
   "source": [
    "## Milestone 2b\n",
    "### 1. What tasks has each group member been assigned to for Milestone2.\n",
    "Will\n",
    "- Install / configure test suite and write outline of tests for Project: For all functions laid out in the milestone spec; addition, multiplication, subtraction, division, power, negation, exponential, trig functions: sine, cosine, tangent\n",
    "- Make sure tests are triggered using TravisCI\n",
    "\n",
    "Xiaoxuan\n",
    "- Coding on Implementation (FADiff.py)\n",
    "- Proposal on future features\n",
    "\n",
    "Gerald\n",
    "- Coding on Implementation (ElemDerivs.py)\n",
    "- Documentation updates (How to Use, Software Organization)\n",
    "- Requirements.txt\n",
    "\n",
    "Elaine\n",
    "- Coding on Implementation (FADiff.py)\n",
    "- Documentation updates (Implementation Details)\n",
    "\n",
    "### 2. What has each group member done since the submission of Milestone1.\n",
    "Gerald: Attended all meetings; Researched and planned how to accomplish Milestone 2 with our TA, at office hours, and on Piazza with the team; Worked on Milestone 2 deliverables jointly with all team members.\n",
    "\n",
    "Xiaoxuan: Attended all meetings, researched and discussed how to address TA comments. Shared and collaborated with the team to move forward with Milestone 2.\n",
    "\n",
    "Elaine: Attended all meetings, researched alternative implementations, discussed implementation plan with team members, documented team list of remaining tasks for Milestone2.\n",
    "\n",
    "Will: Attended all meetings, researched test suite, developed test plan, discussed implementation plan with team members.\n"
   ],
   "cell_type": "markdown",
   "metadata": {}
  }
 ]
}